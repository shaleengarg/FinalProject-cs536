{
  "nbformat": 4,
  "nbformat_minor": 5,
  "metadata": {
    "kernelspec": {
      "display_name": "Python 3",
      "language": "python",
      "name": "python3"
    },
    "language_info": {
      "codemirror_mode": {
        "name": "ipython",
        "version": 3
      },
      "file_extension": ".py",
      "mimetype": "text/x-python",
      "name": "python",
      "nbconvert_exporter": "python",
      "pygments_lexer": "ipython3",
      "version": "3.6.12"
    },
    "colab": {
      "name": "final project.ipynb",
      "provenance": [],
      "collapsed_sections": [],
      "machine_shape": "hm"
    },
    "accelerator": "GPU"
  },
  "cells": [
    {
      "cell_type": "code",
      "metadata": {
        "id": "dynamic-scanning"
      },
      "source": [
        "from __future__ import print_function\n",
        "from __future__ import division\n",
        "\n",
        "import math\n",
        "import copy\n",
        "import numpy as np\n",
        "import pandas as pd\n",
        "import random\n",
        "import torch\n",
        "import torch.nn as nn\n",
        "import torch.nn.functional as F\n",
        "import torch.optim as optim\n",
        "\n",
        "from collections import Counter\n",
        "from torch.utils.data import DataLoader, TensorDataset\n",
        "from torch.nn.utils.rnn import pack_padded_sequence, invert_permutation\n",
        "from torch.nn.utils import clip_grad_norm_\n",
        "from torch.autograd import Variable\n",
        "import matplotlib.pyplot as plt\n",
        "\n",
        "%matplotlib inline\n",
        "plt.rcParams['figure.figsize'] = (10.0, 8.0)"
      ],
      "id": "dynamic-scanning",
      "execution_count": null,
      "outputs": []
    },
    {
      "cell_type": "code",
      "metadata": {
        "id": "pregnant-government"
      },
      "source": [
        "assert torch.cuda.is_available(), 'GPU unavailable'"
      ],
      "id": "pregnant-government",
      "execution_count": null,
      "outputs": []
    },
    {
      "cell_type": "code",
      "metadata": {
        "deletable": false,
        "editable": false,
        "nbgrader": {
          "cell_type": "code",
          "checksum": "55e73ae999b8942d37b609e25bd6f643",
          "grade": false,
          "grade_id": "cell-8a2c00bfecd1cc35",
          "locked": true,
          "schema_version": 3,
          "solution": false,
          "task": false
        },
        "colab": {
          "base_uri": "https://localhost:8080/"
        },
        "id": "thirty-coffee",
        "outputId": "74e9bb37-8cbd-4d86-9076-06434434cb6b"
      },
      "source": [
        "from google.colab import drive\n",
        "drive.mount('/content/drive/')"
      ],
      "id": "thirty-coffee",
      "execution_count": null,
      "outputs": [
        {
          "output_type": "stream",
          "text": [
            "Mounted at /content/drive/\n"
          ],
          "name": "stdout"
        }
      ]
    },
    {
      "cell_type": "code",
      "metadata": {
        "colab": {
          "base_uri": "https://localhost:8080/"
        },
        "id": "_SuMi8zuHjne",
        "outputId": "8d8a357c-12b1-44d3-a2ae-6fd577b6022b"
      },
      "source": [
        "data = pd.read_csv(\"/content/drive/MyDrive/ML_final_project/labeled_log-madbench_reformat.csv\", header = None)\n",
        "data = data.T.to_numpy()[1:6,:]\n",
        "print(data)\n",
        "window = 100\n",
        "data = np.hsplit(data, data.shape[1] / window)\n",
        "print(len(data))"
      ],
      "id": "_SuMi8zuHjne",
      "execution_count": null,
      "outputs": [
        {
          "output_type": "stream",
          "text": [
            "[[2.51030000e+04 2.51060000e+04 2.51070000e+04 ... 2.51040000e+04\n",
            "  2.51040000e+04 2.51040000e+04]\n",
            " [1.20000000e+01 8.00000000e+00 8.00000000e+00 ... 1.00000000e+01\n",
            "  1.00000000e+01 1.00000000e+01]\n",
            " [1.35168000e+05 1.35168000e+05 1.35168000e+05 ... 6.68368896e+08\n",
            "  6.68401664e+08 6.68434432e+08]\n",
            " [4.09600000e+03 4.09600000e+03 4.09600000e+03 ... 4.09600000e+03\n",
            "  4.09600000e+03 4.09600000e+03]\n",
            " [1.00000000e+00 1.00000000e+00 1.00000000e+00 ... 1.00000000e+00\n",
            "  1.00000000e+00 1.00000000e+00]]\n",
            "52427\n"
          ],
          "name": "stdout"
        }
      ]
    },
    {
      "cell_type": "code",
      "metadata": {
        "id": "xUQfEYZSHlrl"
      },
      "source": [
        "def get_data_loader(data, batch_size):\n",
        "  random.shuffle(data)\n",
        "  data = np.array(data)\n",
        "  source_seq = data[:,:4,:]\n",
        "  target_seq = data[:,4:,:]\n",
        "\n",
        "  source_seq = torch.LongTensor(source_seq)\n",
        " \n",
        "  target_seq = torch.LongTensor(target_seq)\n",
        " \n",
        "  source_seq = source_seq.permute(0,2,1) #num_samples, seq_len, embedding_dim \n",
        "  target_seq = target_seq.permute(0,2,1) #num_samples, seq_len, 1 \n",
        "  train_set_size = int(0.9 * len(source_seq))\n",
        "\n",
        "  \n",
        "  train_set = TensorDataset(\n",
        "    source_seq[:train_set_size],\n",
        "    target_seq[:train_set_size])\n",
        "  \n",
        "  val_set = TensorDataset(\n",
        "    source_seq[train_set_size:],\n",
        "    target_seq[train_set_size:])\n",
        "  \n",
        "  loader_kwargs = {\n",
        "    'batch_size': batch_size,\n",
        "    'shuffle': True,\n",
        "    'num_workers': 4,\n",
        "    'pin_memory': True,\n",
        "    'drop_last': True,\n",
        "  }\n",
        "\n",
        "  train_loader = DataLoader(train_set, **loader_kwargs)\n",
        "  val_loader = DataLoader(val_set, **loader_kwargs)\n",
        "\n",
        "  return source_seq, target_seq, train_loader, val_loader"
      ],
      "id": "xUQfEYZSHlrl",
      "execution_count": null,
      "outputs": []
    },
    {
      "cell_type": "code",
      "metadata": {
        "colab": {
          "base_uri": "https://localhost:8080/"
        },
        "id": "LB2J57ryIMaO",
        "outputId": "782301f8-1db7-478b-9e58-0b8fe36fa873"
      },
      "source": [
        "source_data, target_data, train_loader, val_loader = get_data_loader(\n",
        "  data, batch_size=40)\n",
        "print('source_data size:', source_data.size)\n",
        "print('target_data size:', target_data.size)\n",
        "\n",
        "print(source_data.shape)\n",
        "print(target_data.shape)"
      ],
      "id": "LB2J57ryIMaO",
      "execution_count": null,
      "outputs": [
        {
          "output_type": "stream",
          "text": [
            "source_data size: <built-in method size of Tensor object at 0x7f1ef66b7cd0>\n",
            "target_data size: <built-in method size of Tensor object at 0x7f1ef5342b90>\n",
            "torch.Size([52427, 100, 4])\n",
            "torch.Size([52427, 100, 1])\n"
          ],
          "name": "stdout"
        }
      ]
    },
    {
      "cell_type": "code",
      "metadata": {
        "id": "retained-mouth"
      },
      "source": [
        "source_seq,target_seq, train_loader, val_loader = get_data_loader(data, batch_size=100)"
      ],
      "id": "retained-mouth",
      "execution_count": null,
      "outputs": []
    },
    {
      "cell_type": "code",
      "metadata": {
        "deletable": false,
        "nbgrader": {
          "cell_type": "code",
          "checksum": "96f3b5e3ce7e07c7537888b9111893c6",
          "grade": false,
          "grade_id": "cell-cc9b8ebc3255f311",
          "locked": false,
          "schema_version": 3,
          "solution": true,
          "task": false
        },
        "id": "natural-factory"
      },
      "source": [
        "class MultiHeadCausalSelfAttention(nn.Module):\n",
        "  \n",
        "  def __init__(self, d_model, num_heads, dropout=0.):\n",
        "    super().__init__()\n",
        "    \n",
        "    assert d_model % num_heads == 0, \"d_model must be divisible by num_heads\"\n",
        "    self.d_model = d_model\n",
        "    self.num_heads = num_heads\n",
        "    \n",
        "    # This dropout is to be applied to the attention weights\n",
        "    # immediately after the softmax. It was not mentioned\n",
        "    # in the paper, but is used in the actual implementation.\n",
        "    self.dropout = nn.Dropout(dropout)\n",
        "    \n",
        "    # The weight matrices of all heads are concatenated together\n",
        "    self.proj_q = nn.Linear(d_model, d_model, bias=False)\n",
        "    self.proj_k = nn.Linear(d_model, d_model, bias=False)\n",
        "    self.proj_v = nn.Linear(d_model, d_model, bias=False)\n",
        "    \n",
        "    self.proj_o = nn.Linear(d_model, d_model, bias=False)\n",
        "\n",
        "  \n",
        "  def forward(self, input):\n",
        "    \"\"\"\n",
        "    Inputs:\n",
        "    - input: A Tensor of shape (batch_size, seq_len, d_model)\n",
        "      containing sequences of embeddings.\n",
        "    \n",
        "    Returns:\n",
        "    - output: A Tensor of shape (batch_size, seq_len, d_model)\n",
        "      containing the updated embeddings.\n",
        "    \"\"\"\n",
        "    #########################################################################\n",
        "    # TODO:                                                                 #\n",
        "    # Implement the forward pass. No for loop is allowed.                   #\n",
        "    # You may not use PyTorch's built-in multi-head attention.              #\n",
        "    #########################################################################\n",
        "    # Replace \"pass\" statement with your code\n",
        "    dk = torch.div(self.d_model,self.num_heads,rounding_mode=\"trunc\")\n",
        "  \n",
        "    dv  = dk\n",
        "    bs,sl ,_ = input.shape\n",
        "\n",
        "    \n",
        "    #split projection matrixes into h heads for parallel computation after projection\n",
        "    Q_concat = self.proj_q(input).view(bs,-1,self.num_heads,dk).transpose(1,2) #shape (bs,num_heads,seq_len,dk)\n",
        "    K_concat = self.proj_k(input).view(bs,-1,self.num_heads,dk).transpose(1,2)\n",
        "    V_concat = self.proj_v(input).view(bs,-1,self.num_heads,dv).transpose(1,2)\n",
        "    \n",
        "    #scaled dot-product attention to obtain raw scores\n",
        "    raw_score = torch.matmul(Q_concat, K_concat.transpose(-2,-1))/math.sqrt(dk)  #resulting shape (bs,num_heads,sl,sl)\n",
        "    # mask\n",
        "    attn_mask = torch.triu(\n",
        "    input.new_ones((sl, sl), dtype=torch.bool),\n",
        "    diagonal=1)\n",
        "    attn_mask = attn_mask.unsqueeze(0).unsqueeze(0)#view(bs, self.num_heads,sl,sl)\n",
        "    raw_score = raw_score.masked_fill(attn_mask == 1, -1e9)\n",
        "\n",
        "    #softmax \n",
        "    score = self.dropout(torch.softmax(raw_score, dim = -1))\n",
        "    \n",
        "    multihead_v = torch.matmul(score,V_concat) # resulting shape (bs,num_heads,sl,dv)\n",
        "    multihead_v = multihead_v.transpose(1,2).contiguous().view(bs,-1,self.d_model)  #(bs,sl,num_heads*dv)\n",
        "    output = self.proj_o(multihead_v)\n",
        "    \n",
        "\n",
        "\n",
        "    # END OF YOUR CODE\n",
        "    return output"
      ],
      "id": "natural-factory",
      "execution_count": null,
      "outputs": []
    },
    {
      "cell_type": "code",
      "metadata": {
        "deletable": false,
        "nbgrader": {
          "cell_type": "code",
          "checksum": "c6dafef5edd8bf1a54d170f26c1142ca",
          "grade": false,
          "grade_id": "cell-f2b92acd309534a2",
          "locked": false,
          "schema_version": 3,
          "solution": true,
          "task": false
        },
        "id": "tutorial-hampton"
      },
      "source": [
        "class TransformerBlock(nn.Module):\n",
        "  \n",
        "  def __init__(self, d_model, num_heads, d_ff, dropout=0.):\n",
        "    super().__init__()\n",
        "    self.dropout = nn.Dropout(dropout)\n",
        "    self.mulHeadAtt = MultiHeadCausalSelfAttention(d_model = d_model,num_heads= num_heads, dropout = dropout)\n",
        "    self.feedForward1 = nn.Linear(d_model,d_ff)\n",
        "    self.relu = nn.ReLU()\n",
        "    self.feedForward2 = nn.Linear(d_ff,d_model) \n",
        "    self.layerNorm = nn.LayerNorm(d_model)\n",
        "  \n",
        "  \n",
        "  def forward(self, input):\n",
        "    x = input\n",
        "    output = self.mulHeadAtt(input)  # multihead causal self-attention  \n",
        "    output = self.dropout(output)  # dropout \n",
        "    output = output + x  # residual connection \n",
        "    output = self.layerNorm(output) # layer normalization \n",
        "    x = output \n",
        "    output = self.feedForward1(output)\n",
        "    output = self.relu(output)\n",
        "    output = self.feedForward2(output)\n",
        "\n",
        "    output = self.dropout(output)\n",
        "    output = x + output  \n",
        "    output = self.layerNorm(output)\n",
        "    return output"
      ],
      "id": "tutorial-hampton",
      "execution_count": null,
      "outputs": []
    },
    {
      "cell_type": "code",
      "metadata": {
        "deletable": false,
        "nbgrader": {
          "cell_type": "code",
          "checksum": "c3a4181842863c34d5926cdbe9189fa6",
          "grade": false,
          "grade_id": "cell-aff8acaf70d47322",
          "locked": false,
          "schema_version": 3,
          "solution": true,
          "task": false
        },
        "id": "academic-prototype"
      },
      "source": [
        "class PositionalEncoding(nn.Module):\n",
        "  \n",
        "  def __init__(self, max_len, d_model, dropout=0.):\n",
        "    super().__init__()\n",
        "    \n",
        "    self.dropout = nn.Dropout(dropout)\n",
        "    pos = torch.arange(max_len).unsqueeze(1).repeat(1,d_model)\n",
        "    #print(\"pos shape: \",pos.shape,\"max_len\",max_len)\n",
        "    assert pos.shape == torch.Size([max_len,d_model])\n",
        "    dim = torch.pow(10 , torch.arange(d_model)/d_model )\n",
        "    pe = pos / dim \n",
        "    pe[0::2] = torch.sin(pe[0::2])\n",
        "    pe[1::2] = torch.cos(pe[1::2])\n",
        "\n",
        "    pe = pe.unsqueeze(0)\n",
        "    self.register_buffer('pe',pe)\n",
        "\n",
        "  def forward(self, input):\n",
        "    bs, seq_len,d_model = input.shape\n",
        "    input = input*math.sqrt(d_model)\n",
        "    output = input + Variable(self.pe[:,:seq_len],requires_grad= False).cuda()\n",
        "\n",
        "    return output"
      ],
      "id": "academic-prototype",
      "execution_count": null,
      "outputs": []
    },
    {
      "cell_type": "code",
      "metadata": {
        "deletable": false,
        "nbgrader": {
          "cell_type": "code",
          "checksum": "93f338ae2f405427c8fe0dd5464bb2c9",
          "grade": false,
          "grade_id": "cell-93007f53bbf3301b",
          "locked": false,
          "schema_version": 3,
          "solution": true,
          "task": false
        },
        "id": "fluid-raise"
      },
      "source": [
        "class Transformer(nn.Module): # without embedding\n",
        "  \n",
        "  def __init__(self, num_blocks, label_classes, max_len, d_model, num_heads, d_ff, dropout=0.):\n",
        "    super().__init__()\n",
        "\n",
        "    self.d_model = d_model\n",
        "    self.label_classes = label_classes\n",
        "    self.num_heads = num_heads\n",
        "    self.d_ff = d_ff\n",
        "    self.max_len = max_len\n",
        "    self.num_blocks = num_blocks \n",
        "    self.PE = PositionalEncoding(max_len = max_len, d_model = d_model,dropout = dropout)\n",
        "    self.emd = nn.Embedding(label_classes, d_model,padding_idx = 0)\n",
        "    self.fullyConnect = nn.Linear(d_model,label_classes)\n",
        "    self.blocks = nn.ModuleList([TransformerBlock(d_model,num_heads,d_ff,dropout) for _ in range(num_blocks)])\n",
        "    #self.feedForward1 = nn.Linear(d_model,d_ff)\n",
        "    #self.relu = nn.ReLU()\n",
        "    #self.feedForward2 = nn.Linear(d_ff,label_classes)\n",
        "    \n",
        "  def forward(self, input,target):\n",
        "    PE_input = self.PE(input)\n",
        "    for i in range(num_blocks):\n",
        "      transBlock = self.blocks[i]\n",
        "      PE_input = transBlock(PE_input)\n",
        "    #  print(\"passed first transblock\") \n",
        "    \n",
        "    pred = self.fullyConnect(PE_input)\n",
        "    \n",
        "    #pred = self.fullyConnect(pred)  # bs,sel,vocab_size  raw output\n",
        "    target.squeeze(-1)\n",
        "    \n",
        "   # print(pred.shape)\n",
        "    target = target.squeeze()\n",
        "   # print(target.shape)\n",
        "    #print(\"visited\")\n",
        "    #weight = torch.cuda.FloatTensor([1,5])\n",
        "    CE = torch.nn.CrossEntropyLoss()\n",
        "    loss = CE(pred.reshape(-1,self.label_classes), target.reshape(-1))\n",
        "    return loss\n",
        "  \n",
        "  \n",
        "  def predict(self, input):\n",
        "    PE_input = self.PE(input)\n",
        "    for i in range(num_blocks):\n",
        "      transBlock = self.blocks[i]\n",
        "      PE_input = transBlock(PE_input)\n",
        "    # print(\"passed first transblock\")\n",
        "   \n",
        "    #output = self.feedForward1(PE_input)\n",
        "    #output = self.relu(output)\n",
        "    #pred = self.feedForward2(output) #out shape(bs,seq_len,voc_size) \n",
        "    pred = self.fullyConnect(PE_input)\n",
        "    pred = torch.argmax(pred, dim =2).squeeze()  # out shape (bs,seq_len,1)\n",
        "    # print(\"prediction shape: \", pred.shape)\n",
        "\n",
        "    return pred"
      ],
      "id": "fluid-raise",
      "execution_count": null,
      "outputs": []
    },
    {
      "cell_type": "code",
      "metadata": {
        "deletable": false,
        "editable": false,
        "nbgrader": {
          "cell_type": "code",
          "checksum": "9a19aebb8ef4a09bdad874b3160890c7",
          "grade": false,
          "grade_id": "cell-dc0757fbee6aabe2",
          "locked": true,
          "schema_version": 3,
          "solution": false,
          "task": false
        },
        "id": "electronic-balance"
      },
      "source": [
        "def eval_acc(model, data_loader, num_samples=5):\n",
        "  \n",
        "  with torch.no_grad():\n",
        "    model.eval()\n",
        "    \n",
        "    \n",
        "    total = 0\n",
        "    correct = 0\n",
        "    totalPositive = 0 \n",
        "    totalFalsePositive = 0\n",
        "    for batch, data in enumerate(data_loader):\n",
        "      data = [d.cuda() for d in data] # a data point consists of batches of input (bs, seq_len, d_model)and target (bs,seq_len,1)\n",
        "      \n",
        "    \n",
        "      pred = model.predict(data[0])\n",
        "      target = data[1]\n",
        "      #if batch < num_samples:  # show some samples\n",
        "        #target_sentence = [target_vocab.index2word[token] for token in data[0][0].tolist()]\n",
        "        #pred_sentence = [target_vocab.index2word[token] for token in pred[0].tolist()]\n",
        "        \n",
        "        #print(f'=== Sample {batch + 1} ===')\n",
        "        #print('target_sentence:', target_sentence)\n",
        "        #print('pred_sentence:  ', pred_sentence)\n",
        "      \n",
        "      total += target.view(-1).shape[0]\n",
        "      #num_of_ones = torch.count_nonzero(target.view(-1), dim=0)\n",
        "      \n",
        "      target = target.squeeze()\n",
        "      correct += (target == pred ).sum()\n",
        "      positive = pred[target ==1] \n",
        "      falsePositive = len(positive) - torch.count_nonzero(positive)\n",
        "      totalPositive += len(positive)\n",
        "      totalFalsePositive += falsePositive\n",
        "    #print(\"correct: \",correct)\n",
        "    #print(\"total: \", total)\n",
        "    acc = 100 * correct / total\n",
        "    #print(acc)\n",
        "    falsePositiveRate = totalFalsePositive/totalPositive\n",
        "    print(\"false Positive Rate is: \", falsePositiveRate.item())\n",
        "  return acc.item()"
      ],
      "id": "electronic-balance",
      "execution_count": null,
      "outputs": []
    },
    {
      "cell_type": "code",
      "metadata": {
        "id": "crazy-front"
      },
      "source": [
        "def train(model, train_loader, val_loader, num_epochs, learning_rate):\n",
        "  \n",
        "  optimizer = optim.Adam(model.parameters(), lr=learning_rate)\n",
        "  \n",
        "  loss_history = []\n",
        " \n",
        "\n",
        "  for epoch in range(num_epochs):\n",
        "    val_acc = eval_acc(model, val_loader, num_samples=0)\n",
        "    \n",
        "    model.train()\n",
        "    for batch, data in enumerate(train_loader):\n",
        "      data = [d.cuda() for d in data]\n",
        "      \n",
        "      optimizer.zero_grad()\n",
        "      loss = model(*data)\n",
        "      loss.backward()\n",
        "      clip_grad_norm_(model.parameters(), 1)  # gradient clipping\n",
        "      optimizer.step()\n",
        "      \n",
        "      with torch.no_grad():\n",
        "        loss_history.append(loss.item())\n",
        "        if batch == 0:\n",
        "          print('Train Epoch: {:3} \\t Loss: {:F} \\t Val Acc: {:F}'.format(\n",
        "            epoch, loss.item(), val_acc))\n",
        "  \n",
        "\n",
        "  return model, loss_history"
      ],
      "id": "crazy-front",
      "execution_count": null,
      "outputs": []
    },
    {
      "cell_type": "code",
      "metadata": {
        "id": "canadian-fossil",
        "colab": {
          "base_uri": "https://localhost:8080/"
        },
        "outputId": "423e0c5d-772a-4ccc-fd9b-01b06bcb467f"
      },
      "source": [
        "torch.manual_seed(1)\n",
        "\n",
        "batch_size = 80\n",
        "num_epochs = 50\n",
        "learning_rate = 1e-4\n",
        "#5e-4 78%\n",
        "\n",
        "num_blocks = 1\n",
        "d_model = 4\n",
        "num_heads = 1\n",
        "d_ff = 4 * d_model\n",
        "dropout = 0.3\n",
        "\n",
        "label_classes = 2 \n",
        "MAX_LEN = 100\n",
        "\n",
        "source_seq,target_seq, train_loader, val_loader = get_data_loader(data, batch_size)\n",
        "model = Transformer(num_blocks, label_classes, MAX_LEN, d_model, num_heads, d_ff, dropout)\n",
        "model = model.cuda()\n",
        "\n",
        "import time\n",
        "\n",
        "start = time.time()\n",
        "model, loss_history = train(model, train_loader, val_loader, num_epochs, learning_rate)\n",
        "end = time.time()\n",
        "print(end - start)\n",
        "print((end - start)/20)"
      ],
      "id": "canadian-fossil",
      "execution_count": null,
      "outputs": [
        {
          "output_type": "stream",
          "text": [
            "false Positive Rate is:  0.9616823792457581\n",
            "Train Epoch:   0 \t Loss: 0.764503 \t Val Acc: 10.546731\n",
            "false Positive Rate is:  0.0\n",
            "Train Epoch:   1 \t Loss: 0.580147 \t Val Acc: 92.788467\n",
            "false Positive Rate is:  0.0\n",
            "Train Epoch:   2 \t Loss: 0.427688 \t Val Acc: 92.772499\n",
            "false Positive Rate is:  0.0\n",
            "Train Epoch:   3 \t Loss: 0.333148 \t Val Acc: 92.773659\n",
            "false Positive Rate is:  0.0\n",
            "Train Epoch:   4 \t Loss: 0.293682 \t Val Acc: 92.771156\n",
            "false Positive Rate is:  0.0\n",
            "Train Epoch:   5 \t Loss: 0.250782 \t Val Acc: 92.785774\n",
            "false Positive Rate is:  0.0\n",
            "Train Epoch:   6 \t Loss: 0.275892 \t Val Acc: 92.787308\n",
            "false Positive Rate is:  0.0\n",
            "Train Epoch:   7 \t Loss: 0.281274 \t Val Acc: 92.783272\n",
            "false Positive Rate is:  0.0\n",
            "Train Epoch:   8 \t Loss: 0.272505 \t Val Acc: 92.822121\n",
            "false Positive Rate is:  0.0\n",
            "Train Epoch:   9 \t Loss: 0.246748 \t Val Acc: 92.803848\n",
            "false Positive Rate is:  0.0\n",
            "Train Epoch:  10 \t Loss: 0.245301 \t Val Acc: 92.783081\n",
            "false Positive Rate is:  0.0\n",
            "Train Epoch:  11 \t Loss: 0.237161 \t Val Acc: 92.792122\n",
            "false Positive Rate is:  0.0\n",
            "Train Epoch:  12 \t Loss: 0.222514 \t Val Acc: 92.768654\n",
            "false Positive Rate is:  0.0\n",
            "Train Epoch:  13 \t Loss: 0.317985 \t Val Acc: 92.784615\n",
            "false Positive Rate is:  0.0\n",
            "Train Epoch:  14 \t Loss: 0.266776 \t Val Acc: 92.784424\n",
            "false Positive Rate is:  0.0\n",
            "Train Epoch:  15 \t Loss: 0.254460 \t Val Acc: 92.753845\n",
            "false Positive Rate is:  0.0\n",
            "Train Epoch:  16 \t Loss: 0.301827 \t Val Acc: 92.785965\n",
            "false Positive Rate is:  0.0\n",
            "Train Epoch:  17 \t Loss: 0.258361 \t Val Acc: 92.770966\n",
            "false Positive Rate is:  0.0\n",
            "Train Epoch:  18 \t Loss: 0.266422 \t Val Acc: 92.783463\n",
            "false Positive Rate is:  0.0\n",
            "Train Epoch:  19 \t Loss: 0.240578 \t Val Acc: 92.799423\n",
            "false Positive Rate is:  0.0\n",
            "Train Epoch:  20 \t Loss: 0.263678 \t Val Acc: 92.769043\n",
            "false Positive Rate is:  0.0\n",
            "Train Epoch:  21 \t Loss: 0.319476 \t Val Acc: 92.767311\n",
            "false Positive Rate is:  0.0\n",
            "Train Epoch:  22 \t Loss: 0.238924 \t Val Acc: 92.775192\n",
            "false Positive Rate is:  0.0\n",
            "Train Epoch:  23 \t Loss: 0.236068 \t Val Acc: 92.776733\n",
            "false Positive Rate is:  0.0\n",
            "Train Epoch:  24 \t Loss: 0.218679 \t Val Acc: 92.768654\n",
            "false Positive Rate is:  0.0\n",
            "Train Epoch:  25 \t Loss: 0.224321 \t Val Acc: 92.793274\n",
            "false Positive Rate is:  0.0\n",
            "Train Epoch:  26 \t Loss: 0.274001 \t Val Acc: 92.779427\n",
            "false Positive Rate is:  0.0\n",
            "Train Epoch:  27 \t Loss: 0.196987 \t Val Acc: 92.802696\n",
            "false Positive Rate is:  0.0\n",
            "Train Epoch:  28 \t Loss: 0.215191 \t Val Acc: 92.798851\n",
            "false Positive Rate is:  0.0\n",
            "Train Epoch:  29 \t Loss: 0.290575 \t Val Acc: 92.772118\n",
            "false Positive Rate is:  0.0\n",
            "Train Epoch:  30 \t Loss: 0.249712 \t Val Acc: 92.793083\n",
            "false Positive Rate is:  0.0\n",
            "Train Epoch:  31 \t Loss: 0.228395 \t Val Acc: 92.770195\n",
            "false Positive Rate is:  0.0\n",
            "Train Epoch:  32 \t Loss: 0.216007 \t Val Acc: 92.765770\n",
            "false Positive Rate is:  0.0\n",
            "Train Epoch:  33 \t Loss: 0.258316 \t Val Acc: 92.764618\n",
            "false Positive Rate is:  0.0\n",
            "Train Epoch:  34 \t Loss: 0.176300 \t Val Acc: 92.798080\n",
            "false Positive Rate is:  0.0\n",
            "Train Epoch:  35 \t Loss: 0.229196 \t Val Acc: 92.783081\n",
            "false Positive Rate is:  0.0\n",
            "Train Epoch:  36 \t Loss: 0.253406 \t Val Acc: 92.790192\n",
            "false Positive Rate is:  0.0\n",
            "Train Epoch:  37 \t Loss: 0.244929 \t Val Acc: 92.788658\n",
            "false Positive Rate is:  0.0\n",
            "Train Epoch:  38 \t Loss: 0.229723 \t Val Acc: 92.790771\n",
            "false Positive Rate is:  0.0\n",
            "Train Epoch:  39 \t Loss: 0.233008 \t Val Acc: 92.794235\n",
            "false Positive Rate is:  0.0\n",
            "Train Epoch:  40 \t Loss: 0.227435 \t Val Acc: 92.784424\n",
            "false Positive Rate is:  0.0\n",
            "Train Epoch:  41 \t Loss: 0.246420 \t Val Acc: 92.761353\n",
            "false Positive Rate is:  0.0\n",
            "Train Epoch:  42 \t Loss: 0.272424 \t Val Acc: 92.777695\n",
            "false Positive Rate is:  0.0\n",
            "Train Epoch:  43 \t Loss: 0.202512 \t Val Acc: 92.782310\n",
            "false Positive Rate is:  0.0\n",
            "Train Epoch:  44 \t Loss: 0.248766 \t Val Acc: 92.772308\n",
            "false Positive Rate is:  0.0\n",
            "Train Epoch:  45 \t Loss: 0.216179 \t Val Acc: 92.780769\n",
            "false Positive Rate is:  0.0\n",
            "Train Epoch:  46 \t Loss: 0.239138 \t Val Acc: 92.795006\n",
            "false Positive Rate is:  0.0\n",
            "Train Epoch:  47 \t Loss: 0.227714 \t Val Acc: 92.761353\n",
            "false Positive Rate is:  0.0\n",
            "Train Epoch:  48 \t Loss: 0.256887 \t Val Acc: 92.787888\n",
            "false Positive Rate is:  0.0\n",
            "Train Epoch:  49 \t Loss: 0.251412 \t Val Acc: 92.784233\n",
            "274.556036233902\n",
            "13.727801811695098\n"
          ],
          "name": "stdout"
        }
      ]
    },
    {
      "cell_type": "code",
      "metadata": {
        "id": "decreased-percentage",
        "colab": {
          "base_uri": "https://localhost:8080/",
          "height": 279
        },
        "outputId": "ba9d664d-7ab1-43de-989d-e1df99643386"
      },
      "source": [
        "plt.plot(loss_history, 'o')\n",
        "plt.xlabel('Iteration number')\n",
        "plt.ylabel('Loss value')\n",
        "plt.show()"
      ],
      "id": "decreased-percentage",
      "execution_count": null,
      "outputs": [
        {
          "output_type": "display_data",
          "data": {
            "image/png": "[encoded data removed]",
            "text/plain": [
              "<Figure size 432x288 with 1 Axes>"
            ]
          },
          "metadata": {
            "tags": [],
            "needs_background": "light"
          }
        }
      ]
    },
    {
      "cell_type": "code",
      "metadata": {
        "id": "starting-plastic",
        "colab": {
          "base_uri": "https://localhost:8080/"
        },
        "outputId": "2fe96529-0c0d-4830-e8fe-a06af8279c6a"
      },
      "source": [
        "train_acc = eval_acc(model, train_loader)\n",
        "print('Training Accuracy:', train_acc)"
      ],
      "id": "starting-plastic",
      "execution_count": null,
      "outputs": [
        {
          "output_type": "stream",
          "text": [
            "false Positive Rate is:  5.009726373828016e-05\n",
            "Training Accuracy: 52.39163589477539\n"
          ],
          "name": "stdout"
        }
      ]
    },
    {
      "cell_type": "code",
      "metadata": {
        "deletable": false,
        "editable": false,
        "nbgrader": {
          "cell_type": "code",
          "checksum": "26c009e1905748bad2a3192323f36be8",
          "grade": true,
          "grade_id": "cell-6bab750be42b380e",
          "locked": true,
          "points": 45,
          "schema_version": 3,
          "solution": false,
          "task": false
        },
        "id": "fixed-ivory",
        "colab": {
          "base_uri": "https://localhost:8080/"
        },
        "outputId": "d3bd2191-6227-4392-dd3f-985c9f69c30a"
      },
      "source": [
        "val_acc = eval_acc(model, val_loader)\n",
        "print('Validation Accuracy:', val_acc)\n",
        "assert val_acc >= 38"
      ],
      "id": "fixed-ivory",
      "execution_count": null,
      "outputs": [
        {
          "output_type": "stream",
          "text": [
            "false Positive Rate is:  6.914991536177695e-05\n",
            "Validation Accuracy: 52.48508071899414\n"
          ],
          "name": "stdout"
        }
      ]
    },
    {
      "cell_type": "code",
      "metadata": {
        "colab": {
          "base_uri": "https://localhost:8080/"
        },
        "id": "X3ihMsOoRV3w",
        "outputId": "9e3b3d8e-ff2b-4b5f-bfdd-595087cd35fe"
      },
      "source": [
        "model"
      ],
      "id": "X3ihMsOoRV3w",
      "execution_count": null,
      "outputs": [
        {
          "output_type": "execute_result",
          "data": {
            "text/plain": [
              "Transformer(\n",
              "  (PE): PositionalEncoding(\n",
              "    (dropout): Dropout(p=0.3, inplace=False)\n",
              "  )\n",
              "  (emd): Embedding(2, 4, padding_idx=0)\n",
              "  (fullyConnect): Linear(in_features=4, out_features=2, bias=True)\n",
              "  (blocks): ModuleList(\n",
              "    (0): TransformerBlock(\n",
              "      (dropout): Dropout(p=0.3, inplace=False)\n",
              "      (mulHeadAtt): MultiHeadCausalSelfAttention(\n",
              "        (dropout): Dropout(p=0.3, inplace=False)\n",
              "        (proj_q): Linear(in_features=4, out_features=4, bias=False)\n",
              "        (proj_k): Linear(in_features=4, out_features=4, bias=False)\n",
              "        (proj_v): Linear(in_features=4, out_features=4, bias=False)\n",
              "        (proj_o): Linear(in_features=4, out_features=4, bias=False)\n",
              "      )\n",
              "      (feedForward1): Linear(in_features=4, out_features=16, bias=True)\n",
              "      (relu): ReLU()\n",
              "      (feedForward2): Linear(in_features=16, out_features=4, bias=True)\n",
              "      (layerNorm): LayerNorm((4,), eps=1e-05, elementwise_affine=True)\n",
              "    )\n",
              "  )\n",
              ")"
            ]
          },
          "metadata": {
            "tags": []
          },
          "execution_count": 24
        }
      ]
    },
    {
      "cell_type": "code",
      "metadata": {
        "colab": {
          "base_uri": "https://localhost:8080/"
        },
        "id": "1OqeTC9zAPdK",
        "outputId": "9f5491be-625a-4c77-96e0-72fa3f3221e6"
      },
      "source": [
        "for param in model.parameters():\n",
        "  print(param)"
      ],
      "id": "1OqeTC9zAPdK",
      "execution_count": null,
      "outputs": [
        {
          "output_type": "stream",
          "text": [
            "Parameter containing:\n",
            "tensor([[ 0.0000,  0.0000,  0.0000,  0.0000],\n",
            "        [-0.4519, -0.1661, -1.5228,  0.3817]], device='cuda:0',\n",
            "       requires_grad=True)\n",
            "Parameter containing:\n",
            "tensor([[ 0.3437,  0.6721,  0.3051, -0.2518],\n",
            "        [-0.4575, -0.9761,  0.0482,  0.1917]], device='cuda:0',\n",
            "       requires_grad=True)\n",
            "Parameter containing:\n",
            "tensor([-0.6851,  0.5488], device='cuda:0', requires_grad=True)\n",
            "Parameter containing:\n",
            "tensor([[ 0.2981,  0.2718, -0.4888,  0.3100],\n",
            "        [ 0.1397,  0.4743,  0.3300, -0.4556],\n",
            "        [-0.4754, -0.2412,  0.4391, -0.0833],\n",
            "        [ 0.2140, -0.2324,  0.4906, -0.2115]], device='cuda:0',\n",
            "       requires_grad=True)\n",
            "Parameter containing:\n",
            "tensor([[ 0.3750,  0.0059, -0.2634,  0.2570],\n",
            "        [-0.2654,  0.1471, -0.1444, -0.0548],\n",
            "        [-0.4807, -0.2384,  0.2713, -0.1215],\n",
            "        [ 0.4980,  0.4008, -0.0234, -0.3337]], device='cuda:0',\n",
            "       requires_grad=True)\n",
            "Parameter containing:\n",
            "tensor([[-0.1179, -0.4499, -0.2774, -0.0596],\n",
            "        [ 1.0474,  1.2953, -0.3747,  0.6117],\n",
            "        [-0.9368, -0.8702, -0.2733, -1.1846],\n",
            "        [-0.0218, -0.3942,  0.2557, -0.0646]], device='cuda:0',\n",
            "       requires_grad=True)\n",
            "Parameter containing:\n",
            "tensor([[ 0.1129,  0.0349,  0.1316,  0.3174],\n",
            "        [-0.4234,  0.2725, -0.3305, -0.4131],\n",
            "        [-0.0756, -0.2103,  0.2203, -0.1788],\n",
            "        [-0.3911,  0.4588, -0.0339,  0.2110]], device='cuda:0',\n",
            "       requires_grad=True)\n",
            "Parameter containing:\n",
            "tensor([[ 0.2960, -0.3800,  0.2712, -0.1860],\n",
            "        [-0.3815, -0.3158,  0.3079, -0.0816],\n",
            "        [-0.1900, -0.0055,  0.3908, -0.0895],\n",
            "        [ 0.0319,  0.6062, -0.5985, -0.2835],\n",
            "        [ 0.2902, -0.3319,  0.1671,  0.6924],\n",
            "        [ 0.0501,  0.4461,  0.5059, -0.4222],\n",
            "        [ 0.0610,  0.3311,  0.4724,  0.3628],\n",
            "        [-0.5107, -0.7052, -0.4307,  0.5845],\n",
            "        [ 0.2322, -0.3975,  0.4793, -0.4975],\n",
            "        [-0.5695, -0.0712,  0.3605,  0.3991],\n",
            "        [-0.5728, -0.1069,  0.5449,  0.5655],\n",
            "        [ 0.3078,  0.3828,  0.4569, -0.3502],\n",
            "        [-0.4853, -0.8252, -0.4042,  0.2819],\n",
            "        [-0.3084,  0.6310, -0.1314, -0.4301],\n",
            "        [ 0.1922,  0.1616,  0.3053,  0.3367],\n",
            "        [-0.4965, -0.0162, -0.2046,  0.5846]], device='cuda:0',\n",
            "       requires_grad=True)\n",
            "Parameter containing:\n",
            "tensor([-0.4726, -0.2734, -0.3792,  0.0095,  0.5026, -0.1468, -0.3385,  0.2372,\n",
            "         0.2930,  0.3888, -0.1112,  0.1342, -0.0509,  0.0648, -0.3985, -0.0923],\n",
            "       device='cuda:0', requires_grad=True)\n",
            "Parameter containing:\n",
            "tensor([[ 0.0824, -0.0023, -0.0494,  0.0088,  0.7526, -0.1208,  0.1642,  0.6776,\n",
            "         -0.3681,  0.2818,  0.0026, -0.5461,  0.5344, -0.5889, -0.1612,  0.3405],\n",
            "        [-0.3504, -0.2758, -0.1140, -0.3155,  0.1511, -0.4070, -0.0860,  0.1710,\n",
            "          0.1358, -0.1385,  0.1531, -0.1989,  0.5326,  0.3763,  0.0605, -0.3390],\n",
            "        [ 0.4091, -0.3532,  0.0196,  0.9285, -0.5775,  0.2372, -0.1398, -0.5609,\n",
            "         -0.0368, -0.2392, -0.5997,  0.3984, -0.5082,  0.1265,  0.1848, -0.3713],\n",
            "        [-0.0651,  0.1818, -0.1812,  0.2297, -0.2630, -0.0480,  0.2219, -0.3636,\n",
            "         -0.1761,  0.1220,  0.0845,  0.4101, -0.4086, -0.3970,  0.2462,  0.3416]],\n",
            "       device='cuda:0', requires_grad=True)\n",
            "Parameter containing:\n",
            "tensor([ 0.0085,  0.0910, -0.3428,  0.1589], device='cuda:0',\n",
            "       requires_grad=True)\n",
            "Parameter containing:\n",
            "tensor([1.1639, 1.1332, 0.8383, 1.2142], device='cuda:0', requires_grad=True)\n",
            "Parameter containing:\n",
            "tensor([-0.1999, -0.2211, -0.2399, -0.1528], device='cuda:0',\n",
            "       requires_grad=True)\n"
          ],
          "name": "stdout"
        }
      ]
    },
    {
      "cell_type": "code",
      "metadata": {
        "colab": {
          "base_uri": "https://localhost:8080/"
        },
        "id": "kiywOH40Ahj8",
        "outputId": "147ef174-9c72-4701-fe51-2833210ec726"
      },
      "source": [
        "i = 0\n",
        "for param in model.parameters():\n",
        "  i = i + 1\n",
        "  if i == 2:\n",
        "    print(param)"
      ],
      "id": "kiywOH40Ahj8",
      "execution_count": null,
      "outputs": [
        {
          "output_type": "stream",
          "text": [
            "Parameter containing:\n",
            "tensor([[ 0.3437,  0.6721,  0.3051, -0.2518],\n",
            "        [-0.4575, -0.9761,  0.0482,  0.1917]], device='cuda:0',\n",
            "       requires_grad=True)\n"
          ],
          "name": "stdout"
        }
      ]
    },
    {
      "cell_type": "code",
      "metadata": {
        "colab": {
          "base_uri": "https://localhost:8080/"
        },
        "id": "2nGsmEsnRn7o",
        "outputId": "a788b25f-2ebc-4bef-dfb0-4c71b42fc289"
      },
      "source": [
        "i = 0\n",
        "for param in model.parameters():\n",
        "  i = i + 1\n",
        "  if i != 2:\n",
        "    param.requires_grad = False\n",
        "\n",
        "for param in model.parameters():\n",
        "  print(param)"
      ],
      "id": "2nGsmEsnRn7o",
      "execution_count": null,
      "outputs": [
        {
          "output_type": "stream",
          "text": [
            "Parameter containing:\n",
            "tensor([[ 0.0000,  0.0000,  0.0000,  0.0000],\n",
            "        [-0.4519, -0.1661, -1.5228,  0.3817]], device='cuda:0')\n",
            "Parameter containing:\n",
            "tensor([[ 0.3437,  0.6721,  0.3051, -0.2518],\n",
            "        [-0.4575, -0.9761,  0.0482,  0.1917]], device='cuda:0',\n",
            "       requires_grad=True)\n",
            "Parameter containing:\n",
            "tensor([-0.6851,  0.5488], device='cuda:0')\n",
            "Parameter containing:\n",
            "tensor([[ 0.2981,  0.2718, -0.4888,  0.3100],\n",
            "        [ 0.1397,  0.4743,  0.3300, -0.4556],\n",
            "        [-0.4754, -0.2412,  0.4391, -0.0833],\n",
            "        [ 0.2140, -0.2324,  0.4906, -0.2115]], device='cuda:0')\n",
            "Parameter containing:\n",
            "tensor([[ 0.3750,  0.0059, -0.2634,  0.2570],\n",
            "        [-0.2654,  0.1471, -0.1444, -0.0548],\n",
            "        [-0.4807, -0.2384,  0.2713, -0.1215],\n",
            "        [ 0.4980,  0.4008, -0.0234, -0.3337]], device='cuda:0')\n",
            "Parameter containing:\n",
            "tensor([[-0.1179, -0.4499, -0.2774, -0.0596],\n",
            "        [ 1.0474,  1.2953, -0.3747,  0.6117],\n",
            "        [-0.9368, -0.8702, -0.2733, -1.1846],\n",
            "        [-0.0218, -0.3942,  0.2557, -0.0646]], device='cuda:0')\n",
            "Parameter containing:\n",
            "tensor([[ 0.1129,  0.0349,  0.1316,  0.3174],\n",
            "        [-0.4234,  0.2725, -0.3305, -0.4131],\n",
            "        [-0.0756, -0.2103,  0.2203, -0.1788],\n",
            "        [-0.3911,  0.4588, -0.0339,  0.2110]], device='cuda:0')\n",
            "Parameter containing:\n",
            "tensor([[ 0.2960, -0.3800,  0.2712, -0.1860],\n",
            "        [-0.3815, -0.3158,  0.3079, -0.0816],\n",
            "        [-0.1900, -0.0055,  0.3908, -0.0895],\n",
            "        [ 0.0319,  0.6062, -0.5985, -0.2835],\n",
            "        [ 0.2902, -0.3319,  0.1671,  0.6924],\n",
            "        [ 0.0501,  0.4461,  0.5059, -0.4222],\n",
            "        [ 0.0610,  0.3311,  0.4724,  0.3628],\n",
            "        [-0.5107, -0.7052, -0.4307,  0.5845],\n",
            "        [ 0.2322, -0.3975,  0.4793, -0.4975],\n",
            "        [-0.5695, -0.0712,  0.3605,  0.3991],\n",
            "        [-0.5728, -0.1069,  0.5449,  0.5655],\n",
            "        [ 0.3078,  0.3828,  0.4569, -0.3502],\n",
            "        [-0.4853, -0.8252, -0.4042,  0.2819],\n",
            "        [-0.3084,  0.6310, -0.1314, -0.4301],\n",
            "        [ 0.1922,  0.1616,  0.3053,  0.3367],\n",
            "        [-0.4965, -0.0162, -0.2046,  0.5846]], device='cuda:0')\n",
            "Parameter containing:\n",
            "tensor([-0.4726, -0.2734, -0.3792,  0.0095,  0.5026, -0.1468, -0.3385,  0.2372,\n",
            "         0.2930,  0.3888, -0.1112,  0.1342, -0.0509,  0.0648, -0.3985, -0.0923],\n",
            "       device='cuda:0')\n",
            "Parameter containing:\n",
            "tensor([[ 0.0824, -0.0023, -0.0494,  0.0088,  0.7526, -0.1208,  0.1642,  0.6776,\n",
            "         -0.3681,  0.2818,  0.0026, -0.5461,  0.5344, -0.5889, -0.1612,  0.3405],\n",
            "        [-0.3504, -0.2758, -0.1140, -0.3155,  0.1511, -0.4070, -0.0860,  0.1710,\n",
            "          0.1358, -0.1385,  0.1531, -0.1989,  0.5326,  0.3763,  0.0605, -0.3390],\n",
            "        [ 0.4091, -0.3532,  0.0196,  0.9285, -0.5775,  0.2372, -0.1398, -0.5609,\n",
            "         -0.0368, -0.2392, -0.5997,  0.3984, -0.5082,  0.1265,  0.1848, -0.3713],\n",
            "        [-0.0651,  0.1818, -0.1812,  0.2297, -0.2630, -0.0480,  0.2219, -0.3636,\n",
            "         -0.1761,  0.1220,  0.0845,  0.4101, -0.4086, -0.3970,  0.2462,  0.3416]],\n",
            "       device='cuda:0')\n",
            "Parameter containing:\n",
            "tensor([ 0.0085,  0.0910, -0.3428,  0.1589], device='cuda:0')\n",
            "Parameter containing:\n",
            "tensor([1.1639, 1.1332, 0.8383, 1.2142], device='cuda:0')\n",
            "Parameter containing:\n",
            "tensor([-0.1999, -0.2211, -0.2399, -0.1528], device='cuda:0')\n"
          ],
          "name": "stdout"
        }
      ]
    },
    {
      "cell_type": "code",
      "metadata": {
        "id": "B2XxHxD7v28E"
      },
      "source": [
        "model_transfer = copy.deepcopy(model)\n",
        "model_transfer = model_transfer.cuda()"
      ],
      "id": "B2XxHxD7v28E",
      "execution_count": null,
      "outputs": []
    },
    {
      "cell_type": "code",
      "metadata": {
        "colab": {
          "base_uri": "https://localhost:8080/"
        },
        "id": "tptowz6yBPQZ",
        "outputId": "58d00e8c-f2a8-43d4-e047-2f14eb152409"
      },
      "source": [
        "for param in model_transfer.parameters():\n",
        "  print(param)"
      ],
      "id": "tptowz6yBPQZ",
      "execution_count": null,
      "outputs": [
        {
          "output_type": "stream",
          "text": [
            "Parameter containing:\n",
            "tensor([[ 0.0000,  0.0000,  0.0000,  0.0000],\n",
            "        [-0.4519, -0.1661, -1.5228,  0.3817]], device='cuda:0')\n",
            "Parameter containing:\n",
            "tensor([[ 0.3437,  0.6721,  0.3051, -0.2518],\n",
            "        [-0.4575, -0.9761,  0.0482,  0.1917]], device='cuda:0',\n",
            "       requires_grad=True)\n",
            "Parameter containing:\n",
            "tensor([-0.6851,  0.5488], device='cuda:0')\n",
            "Parameter containing:\n",
            "tensor([[ 0.2981,  0.2718, -0.4888,  0.3100],\n",
            "        [ 0.1397,  0.4743,  0.3300, -0.4556],\n",
            "        [-0.4754, -0.2412,  0.4391, -0.0833],\n",
            "        [ 0.2140, -0.2324,  0.4906, -0.2115]], device='cuda:0')\n",
            "Parameter containing:\n",
            "tensor([[ 0.3750,  0.0059, -0.2634,  0.2570],\n",
            "        [-0.2654,  0.1471, -0.1444, -0.0548],\n",
            "        [-0.4807, -0.2384,  0.2713, -0.1215],\n",
            "        [ 0.4980,  0.4008, -0.0234, -0.3337]], device='cuda:0')\n",
            "Parameter containing:\n",
            "tensor([[-0.1179, -0.4499, -0.2774, -0.0596],\n",
            "        [ 1.0474,  1.2953, -0.3747,  0.6117],\n",
            "        [-0.9368, -0.8702, -0.2733, -1.1846],\n",
            "        [-0.0218, -0.3942,  0.2557, -0.0646]], device='cuda:0')\n",
            "Parameter containing:\n",
            "tensor([[ 0.1129,  0.0349,  0.1316,  0.3174],\n",
            "        [-0.4234,  0.2725, -0.3305, -0.4131],\n",
            "        [-0.0756, -0.2103,  0.2203, -0.1788],\n",
            "        [-0.3911,  0.4588, -0.0339,  0.2110]], device='cuda:0')\n",
            "Parameter containing:\n",
            "tensor([[ 0.2960, -0.3800,  0.2712, -0.1860],\n",
            "        [-0.3815, -0.3158,  0.3079, -0.0816],\n",
            "        [-0.1900, -0.0055,  0.3908, -0.0895],\n",
            "        [ 0.0319,  0.6062, -0.5985, -0.2835],\n",
            "        [ 0.2902, -0.3319,  0.1671,  0.6924],\n",
            "        [ 0.0501,  0.4461,  0.5059, -0.4222],\n",
            "        [ 0.0610,  0.3311,  0.4724,  0.3628],\n",
            "        [-0.5107, -0.7052, -0.4307,  0.5845],\n",
            "        [ 0.2322, -0.3975,  0.4793, -0.4975],\n",
            "        [-0.5695, -0.0712,  0.3605,  0.3991],\n",
            "        [-0.5728, -0.1069,  0.5449,  0.5655],\n",
            "        [ 0.3078,  0.3828,  0.4569, -0.3502],\n",
            "        [-0.4853, -0.8252, -0.4042,  0.2819],\n",
            "        [-0.3084,  0.6310, -0.1314, -0.4301],\n",
            "        [ 0.1922,  0.1616,  0.3053,  0.3367],\n",
            "        [-0.4965, -0.0162, -0.2046,  0.5846]], device='cuda:0')\n",
            "Parameter containing:\n",
            "tensor([-0.4726, -0.2734, -0.3792,  0.0095,  0.5026, -0.1468, -0.3385,  0.2372,\n",
            "         0.2930,  0.3888, -0.1112,  0.1342, -0.0509,  0.0648, -0.3985, -0.0923],\n",
            "       device='cuda:0')\n",
            "Parameter containing:\n",
            "tensor([[ 0.0824, -0.0023, -0.0494,  0.0088,  0.7526, -0.1208,  0.1642,  0.6776,\n",
            "         -0.3681,  0.2818,  0.0026, -0.5461,  0.5344, -0.5889, -0.1612,  0.3405],\n",
            "        [-0.3504, -0.2758, -0.1140, -0.3155,  0.1511, -0.4070, -0.0860,  0.1710,\n",
            "          0.1358, -0.1385,  0.1531, -0.1989,  0.5326,  0.3763,  0.0605, -0.3390],\n",
            "        [ 0.4091, -0.3532,  0.0196,  0.9285, -0.5775,  0.2372, -0.1398, -0.5609,\n",
            "         -0.0368, -0.2392, -0.5997,  0.3984, -0.5082,  0.1265,  0.1848, -0.3713],\n",
            "        [-0.0651,  0.1818, -0.1812,  0.2297, -0.2630, -0.0480,  0.2219, -0.3636,\n",
            "         -0.1761,  0.1220,  0.0845,  0.4101, -0.4086, -0.3970,  0.2462,  0.3416]],\n",
            "       device='cuda:0')\n",
            "Parameter containing:\n",
            "tensor([ 0.0085,  0.0910, -0.3428,  0.1589], device='cuda:0')\n",
            "Parameter containing:\n",
            "tensor([1.1639, 1.1332, 0.8383, 1.2142], device='cuda:0')\n",
            "Parameter containing:\n",
            "tensor([-0.1999, -0.2211, -0.2399, -0.1528], device='cuda:0')\n"
          ],
          "name": "stdout"
        }
      ]
    },
    {
      "cell_type": "code",
      "metadata": {
        "colab": {
          "base_uri": "https://localhost:8080/"
        },
        "id": "HGezQIvb2FI7",
        "outputId": "88cf4c9e-da8e-4f0f-fb91-93ff2308bd3c"
      },
      "source": [
        "new_data = pd.read_csv(\"/content/drive/MyDrive/ML_final_project/rand_reuse_str-1_files-10_ent-500k_labeled.csv\", header = None)\n",
        "new_data = new_data.T.to_numpy()[1:6,:]\n",
        "window = 100\n",
        "new_data = np.hsplit(new_data, new_data.shape[1] / window)\n",
        "new_source_seq,new_target_seq, new_train_loader, new_val_loader = get_data_loader(new_data, batch_size=100)\n",
        "print(new_source_seq.shape)\n",
        "print(new_target_seq.shape)"
      ],
      "id": "HGezQIvb2FI7",
      "execution_count": null,
      "outputs": [
        {
          "output_type": "stream",
          "text": [
            "torch.Size([49998, 100, 4])\n",
            "torch.Size([49998, 100, 1])\n"
          ],
          "name": "stdout"
        }
      ]
    },
    {
      "cell_type": "code",
      "metadata": {
        "colab": {
          "base_uri": "https://localhost:8080/"
        },
        "id": "jt80Cg5LJRZ8",
        "outputId": "5dc00898-5809-4806-9b21-d2ec6078b2a3"
      },
      "source": [
        "torch.manual_seed(0)\n",
        "\n",
        "batch_size = 80\n",
        "num_epochs = 20\n",
        "learning_rate = 5e-5\n",
        "\n",
        "\n",
        "num_blocks = 1\n",
        "d_model = 4\n",
        "num_heads = 1\n",
        "d_ff = 4 * d_model\n",
        "dropout = 0.3\n",
        "\n",
        "label_classes = 2 \n",
        "MAX_LEN = 100\n",
        "\n",
        "new_source_seq, new_target_seq, new_train_loader, new_val_loader = get_data_loader(new_data, batch_size)\n",
        "\n",
        "model_transfer, loss_history = train(model_transfer, new_train_loader, new_val_loader, num_epochs, learning_rate)"
      ],
      "id": "jt80Cg5LJRZ8",
      "execution_count": null,
      "outputs": [
        {
          "output_type": "stream",
          "text": [
            "false Positive Rate is:  3.205068060196936e-05\n",
            "Train Epoch:   0 \t Loss: 0.161744 \t Val Acc: 75.484474\n",
            "false Positive Rate is:  3.20508552249521e-05\n",
            "Train Epoch:   1 \t Loss: 0.164496 \t Val Acc: 75.484070\n",
            "false Positive Rate is:  3.204683162039146e-05\n",
            "Train Epoch:   2 \t Loss: 0.159868 \t Val Acc: 75.493546\n",
            "false Positive Rate is:  3.2044521503848955e-05\n",
            "Train Epoch:   3 \t Loss: 0.155554 \t Val Acc: 75.498993\n",
            "false Positive Rate is:  3.204366294085048e-05\n",
            "Train Epoch:   4 \t Loss: 0.159463 \t Val Acc: 75.500801\n",
            "false Positive Rate is:  3.204435051884502e-05\n",
            "Train Epoch:   5 \t Loss: 0.162337 \t Val Acc: 75.499191\n",
            "false Positive Rate is:  2.9375947633525357e-05\n",
            "Train Epoch:   6 \t Loss: 0.158812 \t Val Acc: 75.494354\n",
            "false Positive Rate is:  2.670726098585874e-05\n",
            "Train Epoch:   7 \t Loss: 0.157483 \t Val Acc: 75.489311\n",
            "false Positive Rate is:  2.4037626644712873e-05\n",
            "Train Epoch:   8 \t Loss: 0.158042 \t Val Acc: 75.486084\n",
            "false Positive Rate is:  2.403223334113136e-05\n",
            "Train Epoch:   9 \t Loss: 0.153126 \t Val Acc: 75.503021\n",
            "false Positive Rate is:  2.403582948318217e-05\n",
            "Train Epoch:  10 \t Loss: 0.150075 \t Val Acc: 75.491730\n",
            "false Positive Rate is:  2.1364154235925525e-05\n",
            "Train Epoch:  11 \t Loss: 0.152353 \t Val Acc: 75.495560\n",
            "false Positive Rate is:  2.1363584892242216e-05\n",
            "Train Epoch:  12 \t Loss: 0.163561 \t Val Acc: 75.497375\n",
            "false Positive Rate is:  1.8693484889809042e-05\n",
            "Train Epoch:  13 \t Loss: 0.152140 \t Val Acc: 75.496170\n",
            "false Positive Rate is:  2.136284274456557e-05\n",
            "Train Epoch:  14 \t Loss: 0.153473 \t Val Acc: 75.500000\n",
            "false Positive Rate is:  2.1364439817261882e-05\n",
            "Train Epoch:  15 \t Loss: 0.152312 \t Val Acc: 75.494354\n",
            "false Positive Rate is:  2.136432522092946e-05\n",
            "Train Epoch:  16 \t Loss: 0.154193 \t Val Acc: 75.494759\n",
            "false Positive Rate is:  2.1360276150517166e-05\n",
            "Train Epoch:  17 \t Loss: 0.143442 \t Val Acc: 75.509071\n",
            "false Positive Rate is:  2.1363241103244945e-05\n",
            "Train Epoch:  18 \t Loss: 0.150345 \t Val Acc: 75.498589\n",
            "false Positive Rate is:  2.1368663510656916e-05\n",
            "Train Epoch:  19 \t Loss: 0.152758 \t Val Acc: 75.479431\n"
          ],
          "name": "stdout"
        }
      ]
    },
    {
      "cell_type": "code",
      "metadata": {
        "id": "8-voS3WoTyCO",
        "colab": {
          "base_uri": "https://localhost:8080/"
        },
        "outputId": "17446b31-203e-47df-be27-b92bde04eb38"
      },
      "source": [
        "for batch, data in enumerate(new_val_loader):\n",
        "  data = [d.cuda() for d in data]\n",
        "  target = data[1]\n",
        "  pred = model.predict(data[0])\n",
        "  pred_new = model_transfer.predict(data[0])\n",
        "print(target)"
      ],
      "id": "8-voS3WoTyCO",
      "execution_count": null,
      "outputs": [
        {
          "output_type": "stream",
          "text": [
            "tensor([[[1],\n",
            "         [1],\n",
            "         [0],\n",
            "         ...,\n",
            "         [1],\n",
            "         [1],\n",
            "         [1]],\n",
            "\n",
            "        [[1],\n",
            "         [1],\n",
            "         [0],\n",
            "         ...,\n",
            "         [0],\n",
            "         [1],\n",
            "         [1]],\n",
            "\n",
            "        [[1],\n",
            "         [1],\n",
            "         [1],\n",
            "         ...,\n",
            "         [1],\n",
            "         [1],\n",
            "         [1]],\n",
            "\n",
            "        ...,\n",
            "\n",
            "        [[1],\n",
            "         [1],\n",
            "         [1],\n",
            "         ...,\n",
            "         [0],\n",
            "         [1],\n",
            "         [1]],\n",
            "\n",
            "        [[0],\n",
            "         [1],\n",
            "         [1],\n",
            "         ...,\n",
            "         [0],\n",
            "         [1],\n",
            "         [1]],\n",
            "\n",
            "        [[1],\n",
            "         [0],\n",
            "         [1],\n",
            "         ...,\n",
            "         [1],\n",
            "         [1],\n",
            "         [1]]], device='cuda:0')\n"
          ],
          "name": "stdout"
        }
      ]
    }
  ]
}